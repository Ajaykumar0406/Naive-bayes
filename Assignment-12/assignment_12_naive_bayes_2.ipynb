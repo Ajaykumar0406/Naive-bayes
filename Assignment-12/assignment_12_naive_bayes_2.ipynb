{
  "nbformat": 4,
  "nbformat_minor": 0,
  "metadata": {
    "colab": {
      "provenance": []
    },
    "kernelspec": {
      "name": "python3",
      "display_name": "Python 3"
    },
    "language_info": {
      "name": "python"
    }
  },
  "cells": [
    {
      "cell_type": "code",
      "execution_count": null,
      "metadata": {
        "id": "XV_Kyv47oGOf"
      },
      "outputs": [],
      "source": [
        "                                                 #  Naive Bayes #\n",
        "\n",
        "# used dataset ' SalaryData_Train '\n",
        "\n",
        "#1) Prepare a classification model using Naive Bayes\n",
        "#for salary data\n",
        "\n",
        "#Data Description:\n",
        "\n",
        "#age -- age of a person\n",
        "#workclass\t-- A work class is a grouping of work\n",
        "#education\t-- Education of an individuals\n",
        "#maritalstatus -- Marital status of an individulas\n",
        "#occupation\t -- occupation of an individuals\n",
        "#relationship --\n",
        "#race --  Race of an Individual\n",
        "#sex --  Gender of an Individual\n",
        "#capitalgain --  profit received from the sale of an investment\n",
        "#capitalloss\t-- A decrease in the value of a capital asset\n",
        "#hoursperweek -- number of hours work per week\n",
        "#native -- Native of an individual\n",
        "#Salary -- salary of an individual"
      ]
    },
    {
      "cell_type": "code",
      "source": [
        "!pip install scikit-learn"
      ],
      "metadata": {
        "id": "Mc8sitq3oHDY"
      },
      "execution_count": null,
      "outputs": []
    },
    {
      "cell_type": "code",
      "source": [
        "import pandas as pd\n",
        "from sklearn.model_selection import train_test_split\n",
        "from sklearn.naive_bayes import GaussianNB\n",
        "from sklearn.preprocessing import LabelEncoder\n",
        "from sklearn.metrics import accuracy_score, classification_report, confusion_matrix\n",
        "import seaborn as sns\n",
        "import matplotlib.pyplot as plt"
      ],
      "metadata": {
        "id": "hsZz1FJwoHI5"
      },
      "execution_count": null,
      "outputs": []
    },
    {
      "cell_type": "code",
      "source": [
        "# Load the dataset\n",
        "data = pd.read_csv('SalaryData_Train.csv')"
      ],
      "metadata": {
        "id": "hV-UtIWYoHLf"
      },
      "execution_count": null,
      "outputs": []
    },
    {
      "cell_type": "code",
      "source": [
        "# Display the first few rows of the dataset\n",
        "print(data.head())"
      ],
      "metadata": {
        "colab": {
          "base_uri": "https://localhost:8080/"
        },
        "id": "7RAtJs20pQ2t",
        "outputId": "c70dedcb-8afc-48ee-fda8-f8f7a17ce9df"
      },
      "execution_count": null,
      "outputs": [
        {
          "output_type": "stream",
          "name": "stdout",
          "text": [
            "   age          workclass   education  educationno        maritalstatus  \\\n",
            "0   39          State-gov   Bachelors           13        Never-married   \n",
            "1   50   Self-emp-not-inc   Bachelors           13   Married-civ-spouse   \n",
            "2   38            Private     HS-grad            9             Divorced   \n",
            "3   53            Private        11th            7   Married-civ-spouse   \n",
            "4   28            Private   Bachelors           13   Married-civ-spouse   \n",
            "\n",
            "           occupation    relationship    race      sex  capitalgain  \\\n",
            "0        Adm-clerical   Not-in-family   White     Male         2174   \n",
            "1     Exec-managerial         Husband   White     Male            0   \n",
            "2   Handlers-cleaners   Not-in-family   White     Male            0   \n",
            "3   Handlers-cleaners         Husband   Black     Male            0   \n",
            "4      Prof-specialty            Wife   Black   Female            0   \n",
            "\n",
            "   capitalloss  hoursperweek          native  Salary  \n",
            "0            0            40   United-States   <=50K  \n",
            "1            0            13   United-States   <=50K  \n",
            "2            0            40   United-States   <=50K  \n",
            "3            0            40   United-States   <=50K  \n",
            "4            0            40            Cuba   <=50K  \n"
          ]
        }
      ]
    },
    {
      "cell_type": "code",
      "source": [
        "# Drop any missing values\n",
        "data = data.dropna()"
      ],
      "metadata": {
        "id": "a2QL1fT5pQ5P"
      },
      "execution_count": null,
      "outputs": []
    },
    {
      "cell_type": "code",
      "source": [
        "# Extract features and target variable\n",
        "X = data.drop('Salary', axis=1)\n",
        "y = data['Salary']"
      ],
      "metadata": {
        "id": "ZGVrsOnapQ7b"
      },
      "execution_count": null,
      "outputs": []
    },
    {
      "cell_type": "code",
      "source": [
        "# Convert categorical variables to numerical using Label Encoding\n",
        "label_encoder = LabelEncoder()\n",
        "X_categorical = X.select_dtypes(include=['object'])\n",
        "X_categorical = X_categorical.apply(label_encoder.fit_transform)\n",
        "X = X.drop(X_categorical.columns, axis=1)\n",
        "X = pd.concat([X, X_categorical], axis=1)"
      ],
      "metadata": {
        "id": "KGSLANyZpQ9P"
      },
      "execution_count": null,
      "outputs": []
    },
    {
      "cell_type": "code",
      "source": [
        "# Split the dataset into training and testing sets\n",
        "X_train, X_test, y_train, y_test = train_test_split(X, y, test_size=0.2, random_state=42)"
      ],
      "metadata": {
        "id": "aMyEp5ptpQ_J"
      },
      "execution_count": null,
      "outputs": []
    },
    {
      "cell_type": "code",
      "source": [
        "# Initialize the Naive Bayes classifier\n",
        "naive_bayes_model = GaussianNB()"
      ],
      "metadata": {
        "id": "ZcV1RyLFpRBq"
      },
      "execution_count": null,
      "outputs": []
    },
    {
      "cell_type": "code",
      "source": [
        "# Evaluate the model\n",
        "accuracy = accuracy_score(y_test, y_pred)\n",
        "print(f'Accuracy: {accuracy * 100:.2f}%')"
      ],
      "metadata": {
        "colab": {
          "base_uri": "https://localhost:8080/"
        },
        "id": "vl1ke55cpRG4",
        "outputId": "a3633a3b-c04f-43e7-9a72-4a1f43805983"
      },
      "execution_count": null,
      "outputs": [
        {
          "output_type": "stream",
          "name": "stdout",
          "text": [
            "Accuracy: 79.08%\n"
          ]
        }
      ]
    },
    {
      "cell_type": "code",
      "source": [
        "# Display classification report\n",
        "print('\\nClassification Report:')\n",
        "print(classification_report(y_test, y_pred))"
      ],
      "metadata": {
        "colab": {
          "base_uri": "https://localhost:8080/"
        },
        "id": "QDfkaTBsoHN0",
        "outputId": "d83ac7d1-ec62-4c4d-c070-37c4c8ba33fd"
      },
      "execution_count": null,
      "outputs": [
        {
          "output_type": "stream",
          "name": "stdout",
          "text": [
            "\n",
            "Classification Report:\n",
            "              precision    recall  f1-score   support\n",
            "\n",
            "       <=50K       0.80      0.95      0.87      4490\n",
            "        >50K       0.69      0.33      0.44      1543\n",
            "\n",
            "    accuracy                           0.79      6033\n",
            "   macro avg       0.75      0.64      0.66      6033\n",
            "weighted avg       0.78      0.79      0.76      6033\n",
            "\n"
          ]
        }
      ]
    },
    {
      "cell_type": "code",
      "source": [
        "# Confusion Matrix Visualization\n",
        "cm = confusion_matrix(y_test, y_pred)\n",
        "plt.figure(figsize=(8, 6))\n",
        "sns.heatmap(cm, annot=True, fmt='d', cmap='Blues', xticklabels=['<=50K', '>50K'], yticklabels=['<=50K', '>50K'])\n",
        "plt.title('Confusion Matrix')\n",
        "plt.xlabel('Predicted')\n",
        "plt.ylabel('Actual')\n",
        "plt.show()"
      ],
      "metadata": {
        "colab": {
          "base_uri": "https://localhost:8080/",
          "height": 564
        },
        "id": "ehTO43lfoHQW",
        "outputId": "cba905ca-d23c-4144-a632-25674e027dbe"
      },
      "execution_count": null,
      "outputs": [
        {
          "output_type": "display_data",
          "data": {
            "text/plain": [
              "<Figure size 800x600 with 2 Axes>"
            ],
            "image/png": "[encoded data removed]"
          },
          "metadata": {}
        }
      ]
    },
    {
      "cell_type": "code",
      "source": [],
      "metadata": {
        "id": "fEMUNntzoHTx"
      },
      "execution_count": null,
      "outputs": []
    }
  ]
}